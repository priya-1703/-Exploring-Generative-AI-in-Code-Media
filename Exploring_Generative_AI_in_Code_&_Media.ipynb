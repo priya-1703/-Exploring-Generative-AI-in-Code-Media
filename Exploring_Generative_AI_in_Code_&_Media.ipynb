{
  "nbformat": 4,
  "nbformat_minor": 0,
  "metadata": {
    "colab": {
      "provenance": [],
      "authorship_tag": "ABX9TyMXeqffQoFhWPTY/ASmtnpx",
      "include_colab_link": true
    },
    "kernelspec": {
      "name": "python3",
      "display_name": "Python 3"
    },
    "language_info": {
      "name": "python"
    }
  },
  "cells": [
    {
      "cell_type": "markdown",
      "metadata": {
        "id": "view-in-github",
        "colab_type": "text"
      },
      "source": [
        "<a href=\"https://colab.research.google.com/github/priya-1703/-Exploring-Generative-AI-in-Code-Media/blob/main/Exploring_Generative_AI_in_Code_%26_Media.ipynb\" target=\"_parent\"><img src=\"https://colab.research.google.com/assets/colab-badge.svg\" alt=\"Open In Colab\"/></a>"
      ]
    },
    {
      "cell_type": "code",
      "execution_count": 1,
      "metadata": {
        "id": "ZgkX4oCaHmrY"
      },
      "outputs": [],
      "source": [
        "import os\n",
        "\n",
        "# Create directories for assets, CSS, and JS\n",
        "os.makedirs('/content/portfolio/assets', exist_ok=True)\n",
        "os.makedirs('/content/portfolio/css', exist_ok=True)\n",
        "os.makedirs('/content/portfolio/js', exist_ok=True)\n"
      ]
    },
    {
      "cell_type": "code",
      "source": [
        "homepage_code = \"\"\"\n",
        "<!DOCTYPE html>\n",
        "<html lang=\"en\">\n",
        "<head>\n",
        "    <meta charset=\"UTF-8\">\n",
        "    <meta name=\"viewport\" content=\"width=device-width, initial-scale=1.0\">\n",
        "    <title>My Portfolio</title>\n",
        "    <link rel=\"stylesheet\" href=\"css/styles.css\">\n",
        "</head>\n",
        "<body>\n",
        "    <header>\n",
        "        <nav>\n",
        "            <ul>\n",
        "                <li><a href=\"index.html\">Home</a></li>\n",
        "                <li><a href=\"projects.html\">Projects</a></li>\n",
        "                <li><a href=\"about.html\">About</a></li>\n",
        "                <li><a href=\"contact.html\">Contact</a></li>\n",
        "            </ul>\n",
        "        </nav>\n",
        "    </header>\n",
        "    <main>\n",
        "        <h1>Welcome to My AI-Powered Portfolio!</h1>\n",
        "        <section id=\"intro\">\n",
        "            <p>Here is a little bit about me...</p>\n",
        "        </section>\n",
        "    </main>\n",
        "</body>\n",
        "</html>\n",
        "\"\"\"\n",
        "with open('/content/portfolio/index.html', 'w') as file:\n",
        "    file.write(homepage_code)\n"
      ],
      "metadata": {
        "id": "8Mal09K3Kmgt"
      },
      "execution_count": 2,
      "outputs": []
    },
    {
      "cell_type": "code",
      "source": [
        "projects_code = \"\"\"\n",
        "<!DOCTYPE html>\n",
        "<html lang=\"en\">\n",
        "<head>\n",
        "    <meta charset=\"UTF-8\">\n",
        "    <meta name=\"viewport\" content=\"width=device-width, initial-scale=1.0\">\n",
        "    <title>Projects - My Portfolio</title>\n",
        "    <link rel=\"stylesheet\" href=\"css/styles.css\">\n",
        "</head>\n",
        "<body>\n",
        "    <header>\n",
        "        <nav>\n",
        "            <ul>\n",
        "                <li><a href=\"index.html\">Home</a></li>\n",
        "                <li><a href=\"projects.html\">Projects</a></li>\n",
        "                <li><a href=\"about.html\">About</a></li>\n",
        "                <li><a href=\"contact.html\">Contact</a></li>\n",
        "            </ul>\n",
        "        </nav>\n",
        "    </header>\n",
        "    <main>\n",
        "        <h1>My Projects</h1>\n",
        "        <section id=\"projects\">\n",
        "            <p>Project 1: AI Chatbot</p>\n",
        "            <p>Project 2: AI Image Generator</p>\n",
        "            <!-- Add more projects here -->\n",
        "        </section>\n",
        "    </main>\n",
        "</body>\n",
        "</html>\n",
        "\"\"\"\n",
        "with open('/content/portfolio/projects.html', 'w') as file:\n",
        "    file.write(projects_code)\n"
      ],
      "metadata": {
        "id": "TaAX1RWOKqJU"
      },
      "execution_count": 3,
      "outputs": []
    },
    {
      "cell_type": "code",
      "source": [
        "about_code = \"\"\"\n",
        "<!DOCTYPE html>\n",
        "<html lang=\"en\">\n",
        "<head>\n",
        "    <meta charset=\"UTF-8\">\n",
        "    <meta name=\"viewport\" content=\"width=device-width, initial-scale=1.0\">\n",
        "    <title>About Me - My Portfolio</title>\n",
        "    <link rel=\"stylesheet\" href=\"css/styles.css\">\n",
        "</head>\n",
        "<body>\n",
        "    <header>\n",
        "        <nav>\n",
        "            <ul>\n",
        "                <li><a href=\"index.html\">Home</a></li>\n",
        "                <li><a href=\"projects.html\">Projects</a></li>\n",
        "                <li><a href=\"about.html\">About</a></li>\n",
        "                <li><a href=\"contact.html\">Contact</a></li>\n",
        "            </ul>\n",
        "        </nav>\n",
        "    </header>\n",
        "    <main>\n",
        "        <h1>About Me</h1>\n",
        "        <section id=\"bio\">\n",
        "            <p>I'm a passionate AI enthusiast with a focus on machine learning and natural language processing. Welcome to my portfolio!</p>\n",
        "        </section>\n",
        "    </main>\n",
        "</body>\n",
        "</html>\n",
        "\"\"\"\n",
        "with open('/content/portfolio/about.html', 'w') as file:\n",
        "    file.write(about_code)\n"
      ],
      "metadata": {
        "id": "hpSym3rWKtHQ"
      },
      "execution_count": 4,
      "outputs": []
    },
    {
      "cell_type": "code",
      "source": [
        "contact_code = \"\"\"\n",
        "<!DOCTYPE html>\n",
        "<html lang=\"en\">\n",
        "<head>\n",
        "    <meta charset=\"UTF-8\">\n",
        "    <meta name=\"viewport\" content=\"width=device-width, initial-scale=1.0\">\n",
        "    <title>Contact - My Portfolio</title>\n",
        "    <link rel=\"stylesheet\" href=\"css/styles.css\">\n",
        "</head>\n",
        "<body>\n",
        "    <header>\n",
        "        <nav>\n",
        "            <ul>\n",
        "                <li><a href=\"index.html\">Home</a></li>\n",
        "                <li><a href=\"projects.html\">Projects</a></li>\n",
        "                <li><a href=\"about.html\">About</a></li>\n",
        "                <li><a href=\"contact.html\">Contact</a></li>\n",
        "            </ul>\n",
        "        </nav>\n",
        "    </header>\n",
        "    <main>\n",
        "        <h1>Contact Me</h1>\n",
        "        <section id=\"contact-form\">\n",
        "            <form action=\"#\" method=\"post\">\n",
        "                <label for=\"name\">Name:</label>\n",
        "                <input type=\"text\" id=\"name\" name=\"name\" required>\n",
        "                <label for=\"email\">Email:</label>\n",
        "                <input type=\"email\" id=\"email\" name=\"email\" required>\n",
        "                <label for=\"message\">Message:</label>\n",
        "                <textarea id=\"message\" name=\"message\" required></textarea>\n",
        "                <button type=\"submit\">Send Message</button>\n",
        "            </form>\n",
        "        </section>\n",
        "    </main>\n",
        "</body>\n",
        "</html>\n",
        "\"\"\"\n",
        "with open('/content/portfolio/contact.html', 'w') as file:\n",
        "    file.write(contact_code)\n"
      ],
      "metadata": {
        "id": "WqKskIwDKyme"
      },
      "execution_count": 5,
      "outputs": []
    },
    {
      "cell_type": "code",
      "source": [
        "css_code = \"\"\"\n",
        "body {\n",
        "    font-family: Arial, sans-serif;\n",
        "    margin: 0;\n",
        "    padding: 0;\n",
        "    background-color: #f4f4f4;\n",
        "}\n",
        "\n",
        "header {\n",
        "    background-color: #333;\n",
        "    color: white;\n",
        "    padding: 1em;\n",
        "    text-align: center;\n",
        "}\n",
        "\n",
        "nav ul {\n",
        "    list-style-type: none;\n",
        "    padding: 0;\n",
        "}\n",
        "\n",
        "nav ul li {\n",
        "    display: inline;\n",
        "    margin-right: 10px;\n",
        "}\n",
        "\n",
        "nav ul li a {\n",
        "    color: white;\n",
        "    text-decoration: none;\n",
        "}\n",
        "\n",
        "main {\n",
        "    padding: 20px;\n",
        "}\n",
        "\n",
        "h1 {\n",
        "    color: #333;\n",
        "}\n",
        "\n",
        "footer {\n",
        "    text-align: center;\n",
        "    padding: 10px;\n",
        "    background-color: #333;\n",
        "    color: white;\n",
        "}\n",
        "\"\"\"\n",
        "with open('/content/portfolio/css/styles.css', 'w') as file:\n",
        "    file.write(css_code)\n"
      ],
      "metadata": {
        "id": "mDJ8vB1bK16I"
      },
      "execution_count": 6,
      "outputs": []
    },
    {
      "cell_type": "code",
      "source": [
        "import shutil\n",
        "\n",
        "# Move the portfolio folder to a new location for easier access\n",
        "shutil.make_archive(\"/content/portfolio-site\", 'zip', '/content/portfolio')\n",
        "\n",
        "# To share the folder, we can download the ZIP file\n",
        "from google.colab import files\n",
        "files.download(\"/content/portfolio-site.zip\")\n"
      ],
      "metadata": {
        "colab": {
          "base_uri": "https://localhost:8080/",
          "height": 17
        },
        "id": "BCang_15K7em",
        "outputId": "19aec89b-435b-47ff-adeb-13de8b8f19d8"
      },
      "execution_count": 7,
      "outputs": [
        {
          "output_type": "display_data",
          "data": {
            "text/plain": [
              "<IPython.core.display.Javascript object>"
            ],
            "application/javascript": [
              "\n",
              "    async function download(id, filename, size) {\n",
              "      if (!google.colab.kernel.accessAllowed) {\n",
              "        return;\n",
              "      }\n",
              "      const div = document.createElement('div');\n",
              "      const label = document.createElement('label');\n",
              "      label.textContent = `Downloading \"${filename}\": `;\n",
              "      div.appendChild(label);\n",
              "      const progress = document.createElement('progress');\n",
              "      progress.max = size;\n",
              "      div.appendChild(progress);\n",
              "      document.body.appendChild(div);\n",
              "\n",
              "      const buffers = [];\n",
              "      let downloaded = 0;\n",
              "\n",
              "      const channel = await google.colab.kernel.comms.open(id);\n",
              "      // Send a message to notify the kernel that we're ready.\n",
              "      channel.send({})\n",
              "\n",
              "      for await (const message of channel.messages) {\n",
              "        // Send a message to notify the kernel that we're ready.\n",
              "        channel.send({})\n",
              "        if (message.buffers) {\n",
              "          for (const buffer of message.buffers) {\n",
              "            buffers.push(buffer);\n",
              "            downloaded += buffer.byteLength;\n",
              "            progress.value = downloaded;\n",
              "          }\n",
              "        }\n",
              "      }\n",
              "      const blob = new Blob(buffers, {type: 'application/binary'});\n",
              "      const a = document.createElement('a');\n",
              "      a.href = window.URL.createObjectURL(blob);\n",
              "      a.download = filename;\n",
              "      div.appendChild(a);\n",
              "      a.click();\n",
              "      div.remove();\n",
              "    }\n",
              "  "
            ]
          },
          "metadata": {}
        },
        {
          "output_type": "display_data",
          "data": {
            "text/plain": [
              "<IPython.core.display.Javascript object>"
            ],
            "application/javascript": [
              "download(\"download_c68e71d5-740c-470f-b08a-91df0f46d47c\", \"portfolio-site.zip\", 2575)"
            ]
          },
          "metadata": {}
        }
      ]
    },
    {
      "cell_type": "code",
      "source": [
        "!pip install gTTS\n"
      ],
      "metadata": {
        "colab": {
          "base_uri": "https://localhost:8080/"
        },
        "id": "rBsqJo1jK_c9",
        "outputId": "e97f8023-9aa5-4b0e-bcf4-6be92f02b59b"
      },
      "execution_count": 8,
      "outputs": [
        {
          "output_type": "stream",
          "name": "stdout",
          "text": [
            "Collecting gTTS\n",
            "  Downloading gTTS-2.5.4-py3-none-any.whl.metadata (4.1 kB)\n",
            "Requirement already satisfied: requests<3,>=2.27 in /usr/local/lib/python3.11/dist-packages (from gTTS) (2.32.3)\n",
            "Requirement already satisfied: click<8.2,>=7.1 in /usr/local/lib/python3.11/dist-packages (from gTTS) (8.1.8)\n",
            "Requirement already satisfied: charset-normalizer<4,>=2 in /usr/local/lib/python3.11/dist-packages (from requests<3,>=2.27->gTTS) (3.4.1)\n",
            "Requirement already satisfied: idna<4,>=2.5 in /usr/local/lib/python3.11/dist-packages (from requests<3,>=2.27->gTTS) (3.10)\n",
            "Requirement already satisfied: urllib3<3,>=1.21.1 in /usr/local/lib/python3.11/dist-packages (from requests<3,>=2.27->gTTS) (2.3.0)\n",
            "Requirement already satisfied: certifi>=2017.4.17 in /usr/local/lib/python3.11/dist-packages (from requests<3,>=2.27->gTTS) (2025.1.31)\n",
            "Downloading gTTS-2.5.4-py3-none-any.whl (29 kB)\n",
            "Installing collected packages: gTTS\n",
            "Successfully installed gTTS-2.5.4\n"
          ]
        }
      ]
    },
    {
      "cell_type": "code",
      "source": [
        "script = \"\"\"\n",
        "Hello! Welcome to my AI-powered portfolio site. I'm priyanka a passionate developer exploring the world of AI and machine learning.\n",
        "Here you can find my projects, about me, and how to contact me. I hope you enjoy browsing my work.\n",
        "\"\"\"\n"
      ],
      "metadata": {
        "id": "M6kGFfYMLrPg"
      },
      "execution_count": 9,
      "outputs": []
    },
    {
      "cell_type": "code",
      "source": [
        "from gtts import gTTS\n",
        "\n",
        "# Generate the audio file\n",
        "tts = gTTS(script, lang='en')\n",
        "tts.save('/content/portfolio/intro.mp3')\n"
      ],
      "metadata": {
        "id": "sZj2fY4vLtSP"
      },
      "execution_count": 10,
      "outputs": []
    },
    {
      "cell_type": "code",
      "source": [
        "from google.colab import files\n",
        "files.download('/content/portfolio/intro.mp3')\n"
      ],
      "metadata": {
        "colab": {
          "base_uri": "https://localhost:8080/",
          "height": 17
        },
        "id": "aj4QUbSILwou",
        "outputId": "4b149564-849e-45bb-8fcd-6b6ba681fb71"
      },
      "execution_count": 11,
      "outputs": [
        {
          "output_type": "display_data",
          "data": {
            "text/plain": [
              "<IPython.core.display.Javascript object>"
            ],
            "application/javascript": [
              "\n",
              "    async function download(id, filename, size) {\n",
              "      if (!google.colab.kernel.accessAllowed) {\n",
              "        return;\n",
              "      }\n",
              "      const div = document.createElement('div');\n",
              "      const label = document.createElement('label');\n",
              "      label.textContent = `Downloading \"${filename}\": `;\n",
              "      div.appendChild(label);\n",
              "      const progress = document.createElement('progress');\n",
              "      progress.max = size;\n",
              "      div.appendChild(progress);\n",
              "      document.body.appendChild(div);\n",
              "\n",
              "      const buffers = [];\n",
              "      let downloaded = 0;\n",
              "\n",
              "      const channel = await google.colab.kernel.comms.open(id);\n",
              "      // Send a message to notify the kernel that we're ready.\n",
              "      channel.send({})\n",
              "\n",
              "      for await (const message of channel.messages) {\n",
              "        // Send a message to notify the kernel that we're ready.\n",
              "        channel.send({})\n",
              "        if (message.buffers) {\n",
              "          for (const buffer of message.buffers) {\n",
              "            buffers.push(buffer);\n",
              "            downloaded += buffer.byteLength;\n",
              "            progress.value = downloaded;\n",
              "          }\n",
              "        }\n",
              "      }\n",
              "      const blob = new Blob(buffers, {type: 'application/binary'});\n",
              "      const a = document.createElement('a');\n",
              "      a.href = window.URL.createObjectURL(blob);\n",
              "      a.download = filename;\n",
              "      div.appendChild(a);\n",
              "      a.click();\n",
              "      div.remove();\n",
              "    }\n",
              "  "
            ]
          },
          "metadata": {}
        },
        {
          "output_type": "display_data",
          "data": {
            "text/plain": [
              "<IPython.core.display.Javascript object>"
            ],
            "application/javascript": [
              "download(\"download_18214feb-b13a-48aa-93f4-ccef47118362\", \"intro.mp3\", 149376)"
            ]
          },
          "metadata": {}
        }
      ]
    },
    {
      "cell_type": "code",
      "source": [
        "from google.colab import files\n",
        "files.download('/content/portfolio/index_with_media.html')\n",
        "\n"
      ],
      "metadata": {
        "colab": {
          "base_uri": "https://localhost:8080/",
          "height": 17
        },
        "id": "fMpIKRP_L9BC",
        "outputId": "488673eb-f394-4226-eb0e-7aa555af6df0"
      },
      "execution_count": 15,
      "outputs": [
        {
          "output_type": "display_data",
          "data": {
            "text/plain": [
              "<IPython.core.display.Javascript object>"
            ],
            "application/javascript": [
              "\n",
              "    async function download(id, filename, size) {\n",
              "      if (!google.colab.kernel.accessAllowed) {\n",
              "        return;\n",
              "      }\n",
              "      const div = document.createElement('div');\n",
              "      const label = document.createElement('label');\n",
              "      label.textContent = `Downloading \"${filename}\": `;\n",
              "      div.appendChild(label);\n",
              "      const progress = document.createElement('progress');\n",
              "      progress.max = size;\n",
              "      div.appendChild(progress);\n",
              "      document.body.appendChild(div);\n",
              "\n",
              "      const buffers = [];\n",
              "      let downloaded = 0;\n",
              "\n",
              "      const channel = await google.colab.kernel.comms.open(id);\n",
              "      // Send a message to notify the kernel that we're ready.\n",
              "      channel.send({})\n",
              "\n",
              "      for await (const message of channel.messages) {\n",
              "        // Send a message to notify the kernel that we're ready.\n",
              "        channel.send({})\n",
              "        if (message.buffers) {\n",
              "          for (const buffer of message.buffers) {\n",
              "            buffers.push(buffer);\n",
              "            downloaded += buffer.byteLength;\n",
              "            progress.value = downloaded;\n",
              "          }\n",
              "        }\n",
              "      }\n",
              "      const blob = new Blob(buffers, {type: 'application/binary'});\n",
              "      const a = document.createElement('a');\n",
              "      a.href = window.URL.createObjectURL(blob);\n",
              "      a.download = filename;\n",
              "      div.appendChild(a);\n",
              "      a.click();\n",
              "      div.remove();\n",
              "    }\n",
              "  "
            ]
          },
          "metadata": {}
        },
        {
          "output_type": "display_data",
          "data": {
            "text/plain": [
              "<IPython.core.display.Javascript object>"
            ],
            "application/javascript": [
              "download(\"download_1169d4c7-bc6d-4846-9dc8-2b38dc7349ac\", \"index_with_media.html\", 867)"
            ]
          },
          "metadata": {}
        }
      ]
    },
    {
      "cell_type": "code",
      "source": [
        "html_code = \"\"\"\n",
        "<!DOCTYPE html>\n",
        "<html lang=\"en\">\n",
        "<head>\n",
        "    <meta charset=\"UTF-8\">\n",
        "    <meta name=\"viewport\" content=\"width=device-width, initial-scale=1.0\">\n",
        "    <title>My Portfolio</title>\n",
        "</head>\n",
        "<body>\n",
        "    <header>\n",
        "        <h1>Welcome to My AI-Powered Portfolio!</h1>\n",
        "    </header>\n",
        "\n",
        "    <main>\n",
        "        <section id=\"intro\">\n",
        "            <h2>Introduction Video</h2>\n",
        "            <video width=\"320\" height=\"240\" controls>\n",
        "                <source src=\"/content/intro_video.mp4\" type=\"video/mp4\">\n",
        "                Your browser does not support the video tag.\n",
        "            </video>\n",
        "        </section>\n",
        "\n",
        "        <section id=\"audio\">\n",
        "            <h2>Intro Audio</h2>\n",
        "            <audio controls>\n",
        "                <source src=\"/content/intro.mp3\" type=\"audio/mp3\">\n",
        "                Your browser does not support the audio element.\n",
        "            </audio>\n",
        "        </section>\n",
        "    </main>\n",
        "</body>\n",
        "</html>\n",
        "\"\"\"\n",
        "\n",
        "# Save the HTML file\n",
        "with open('/content/portfolio/index_with_media.html', 'w') as file:\n",
        "    file.write(html_code)\n"
      ],
      "metadata": {
        "id": "1CGGtMWjR-m6"
      },
      "execution_count": 20,
      "outputs": []
    },
    {
      "cell_type": "code",
      "source": [
        "from google.colab import files\n",
        "files.download('/content/portfolio/index_with_media.html')\n"
      ],
      "metadata": {
        "colab": {
          "base_uri": "https://localhost:8080/",
          "height": 17
        },
        "id": "cvdqsRMdR_4G",
        "outputId": "c5d30fa4-9b61-4ed8-d1e7-f4e0e11c6a54"
      },
      "execution_count": 21,
      "outputs": [
        {
          "output_type": "display_data",
          "data": {
            "text/plain": [
              "<IPython.core.display.Javascript object>"
            ],
            "application/javascript": [
              "\n",
              "    async function download(id, filename, size) {\n",
              "      if (!google.colab.kernel.accessAllowed) {\n",
              "        return;\n",
              "      }\n",
              "      const div = document.createElement('div');\n",
              "      const label = document.createElement('label');\n",
              "      label.textContent = `Downloading \"${filename}\": `;\n",
              "      div.appendChild(label);\n",
              "      const progress = document.createElement('progress');\n",
              "      progress.max = size;\n",
              "      div.appendChild(progress);\n",
              "      document.body.appendChild(div);\n",
              "\n",
              "      const buffers = [];\n",
              "      let downloaded = 0;\n",
              "\n",
              "      const channel = await google.colab.kernel.comms.open(id);\n",
              "      // Send a message to notify the kernel that we're ready.\n",
              "      channel.send({})\n",
              "\n",
              "      for await (const message of channel.messages) {\n",
              "        // Send a message to notify the kernel that we're ready.\n",
              "        channel.send({})\n",
              "        if (message.buffers) {\n",
              "          for (const buffer of message.buffers) {\n",
              "            buffers.push(buffer);\n",
              "            downloaded += buffer.byteLength;\n",
              "            progress.value = downloaded;\n",
              "          }\n",
              "        }\n",
              "      }\n",
              "      const blob = new Blob(buffers, {type: 'application/binary'});\n",
              "      const a = document.createElement('a');\n",
              "      a.href = window.URL.createObjectURL(blob);\n",
              "      a.download = filename;\n",
              "      div.appendChild(a);\n",
              "      a.click();\n",
              "      div.remove();\n",
              "    }\n",
              "  "
            ]
          },
          "metadata": {}
        },
        {
          "output_type": "display_data",
          "data": {
            "text/plain": [
              "<IPython.core.display.Javascript object>"
            ],
            "application/javascript": [
              "download(\"download_18904f4b-0711-4fb2-9e6f-dec2be977ea1\", \"index_with_media.html\", 871)"
            ]
          },
          "metadata": {}
        }
      ]
    }
  ]
}